{
 "cells": [
  {
   "cell_type": "markdown",
   "metadata": {},
   "source": [
    "# Animated Scatterplot \n",
    "\n",
    "similar to the one by Hans Rosling (see [his Box-by-Box talk](https://www.youtube.com/watch?v=fTznEIZRkLg))"
   ]
  },
  {
   "cell_type": "code",
   "execution_count": null,
   "metadata": {},
   "outputs": [],
   "source": [
    "!python -m pip install pandas matplotlib imageio seaborn openpyxl"
   ]
  },
  {
   "cell_type": "code",
   "execution_count": null,
   "metadata": {},
   "outputs": [],
   "source": [
    "# all imports in one place and on top\n",
    "import pandas as pd\n",
    "from matplotlib import pyplot as plt,colors\n",
    "import seaborn as sns\n",
    "import imageio"
   ]
  },
  {
   "cell_type": "code",
   "execution_count": null,
   "metadata": {},
   "outputs": [],
   "source": [
    "# create output path (uses a bash command)\n",
    "!mkdir -p frames"
   ]
  },
  {
   "cell_type": "code",
   "execution_count": null,
   "metadata": {},
   "outputs": [],
   "source": [
    "PATH = 'frames'"
   ]
  },
  {
   "cell_type": "code",
   "execution_count": null,
   "metadata": {},
   "outputs": [],
   "source": [
    "# read data\n",
    "fert = pd.read_csv('gapminder_total_fertility.csv', index_col=0)\n",
    "life = pd.read_excel('gapminder_lifeexpectancy.xlsx', index_col=0)\n",
    "pop = pd.read_excel('gapminder_population.xlsx', index_col=0)\n",
    "cont = pd.read_csv('continents.csv', sep=';')"
   ]
  },
  {
   "cell_type": "code",
   "execution_count": null,
   "metadata": {},
   "outputs": [],
   "source": [
    "pop.head(5)"
   ]
  },
  {
   "cell_type": "code",
   "execution_count": null,
   "metadata": {},
   "outputs": [],
   "source": [
    "# inspect shapes\n",
    "fert.shape, life.shape, pop.shape, cont.shape"
   ]
  },
  {
   "cell_type": "code",
   "execution_count": null,
   "metadata": {},
   "outputs": [],
   "source": [
    "# convert column labels to integers\n",
    "fert.columns = fert.columns.astype(int)"
   ]
  },
  {
   "cell_type": "code",
   "execution_count": null,
   "metadata": {},
   "outputs": [],
   "source": [
    "# change index labels\n",
    "fert.index.name = 'country'\n",
    "pop.index.name = 'country'\n",
    "life.index.name = 'country'"
   ]
  },
  {
   "cell_type": "markdown",
   "metadata": {},
   "source": [
    "### Simple Statistics"
   ]
  },
  {
   "cell_type": "code",
   "execution_count": null,
   "metadata": {},
   "outputs": [],
   "source": [
    "pop[2010].sum()  # sum over all countries (data not 100% clean!)"
   ]
  },
  {
   "cell_type": "code",
   "execution_count": null,
   "metadata": {},
   "outputs": [],
   "source": [
    "top10 = pop[2010].sort_values(ascending=False).head(10)\n",
    "top10mil = top10 // 1_000_000\n",
    "top10.plot.bar()\n",
    "plt.title('most populous countries in 2010')\n",
    "plt.ylabel('population[millions]')"
   ]
  },
  {
   "cell_type": "code",
   "execution_count": null,
   "metadata": {},
   "outputs": [],
   "source": [
    "pop.loc['Romania'].plot()\n",
    "plt.title('population of Romania')"
   ]
  },
  {
   "cell_type": "code",
   "execution_count": null,
   "metadata": {},
   "outputs": [],
   "source": [
    "fert[2010].hist(bins=20)\n",
    "plt.title('distribution of children per woman in 2010')"
   ]
  },
  {
   "cell_type": "markdown",
   "metadata": {},
   "source": [
    "### Convert to long format"
   ]
  },
  {
   "cell_type": "code",
   "execution_count": null,
   "metadata": {},
   "outputs": [],
   "source": [
    "fert_long = fert.reset_index()\n",
    "fert_long = fert_long.melt(id_vars='country', var_name='year', value_name='fertility_rate')\n",
    "fert_long.head(3) # check how it looks like"
   ]
  },
  {
   "cell_type": "code",
   "execution_count": null,
   "metadata": {},
   "outputs": [],
   "source": [
    "pop_long = pop.reset_index()\n",
    "pop_long = pop_long.melt(id_vars='country', var_name='year', value_name='population')"
   ]
  },
  {
   "cell_type": "code",
   "execution_count": null,
   "metadata": {},
   "outputs": [],
   "source": [
    "life_long = life.reset_index()\n",
    "life_long = life_long.melt(id_vars='country', var_name='year', value_name='life_exp')"
   ]
  },
  {
   "cell_type": "markdown",
   "metadata": {},
   "source": [
    "### Merge"
   ]
  },
  {
   "cell_type": "code",
   "execution_count": null,
   "metadata": {},
   "outputs": [],
   "source": [
    "# merge on two columns\n",
    "df = pd.merge(fert_long, pop_long, on=['country', 'year'])\n",
    "df = pd.merge(df, life_long, on=['country', 'year'])\n",
    "df = pd.merge(df, cont, on='country', how='outer')\n",
    "df.iloc[100:105]  # manually found spot without NaNs"
   ]
  },
  {
   "cell_type": "code",
   "execution_count": null,
   "metadata": {},
   "outputs": [],
   "source": [
    " df.shape # all countries x years"
   ]
  },
  {
   "cell_type": "code",
   "execution_count": null,
   "metadata": {},
   "outputs": [],
   "source": [
    "# remove empty values - we only want complete data\n",
    "df.dropna(inplace=True)"
   ]
  },
  {
   "cell_type": "markdown",
   "metadata": {},
   "source": [
    "### Plotting"
   ]
  },
  {
   "cell_type": "code",
   "execution_count": null,
   "metadata": {
    "scrolled": true
   },
   "outputs": [],
   "source": [
    "# big image with all data as a teaser\n",
    "sns.scatterplot(data=df, x='life_exp', y='fertility_rate', hue='continent')"
   ]
  },
  {
   "cell_type": "code",
   "execution_count": null,
   "metadata": {},
   "outputs": [],
   "source": [
    "# scale to range [0,1]\n",
    "df['population_scaled'] = (df['population'] - df['population'].min())/(df['population'].max()-df['population'].min())\n",
    "# scale to range [1, 10000]\n",
    "df['population_scaled'] = (10000-1)*df['population_scaled']+1"
   ]
  },
  {
   "cell_type": "code",
   "execution_count": null,
   "metadata": {},
   "outputs": [],
   "source": [
    "def create_scatterplot(df, year):\n",
    "    \"\"\"Prepare hihger quality scatterplot for one year\"\"\"\n",
    "    subdf = df.loc[df['year'] == year]\n",
    "   \n",
    "    plt.figure(figsize=(12, 8)) # <-- reset figure, crashes without this line\n",
    "    sns.scatterplot(x='life_exp', y='fertility_rate', hue='continent', \n",
    "                    size='population', \n",
    "                    # for correct global scaling across all years\n",
    "                    sizes=(subdf['population_scaled'].min(), subdf['population_scaled'].max()), \n",
    "                    legend=False, alpha=0.8, data=subdf)\n",
    "    plt.axis([0, 85, 0, 9.5])\n",
    "    plt.title(f\"{year}\", loc='left', fontsize=16)\n",
    "    plt.xlabel('life expectancy [years]', fontsize=16)\n",
    "    plt.ylabel('fertility [children per women]', fontsize=16)\n",
    "    sns.despine()"
   ]
  },
  {
   "cell_type": "code",
   "execution_count": null,
   "metadata": {},
   "outputs": [],
   "source": [
    "create_scatterplot(df, 1960)"
   ]
  },
  {
   "cell_type": "code",
   "execution_count": null,
   "metadata": {},
   "outputs": [],
   "source": [
    "# write frames for all years\n",
    "for year in range(1950, 2016): # add ,10 for bigger steps -> faster when debugging\n",
    "    print(year, end=', ')  # debug info\n",
    "    create_scatterplot(df, year)\n",
    "    plt.savefig(f'{PATH}/frame_{year}.png', dpi=150)\n",
    "    plt.close() # do not display plot in output"
   ]
  },
  {
   "cell_type": "code",
   "execution_count": null,
   "metadata": {},
   "outputs": [],
   "source": [
    "images = []\n",
    "\n",
    "for year in range(1950, 2016):\n",
    "    filename = f'{PATH}/frame_{year}.png'\n",
    "    images.append(imageio.imread(filename))\n",
    "\n",
    "imageio.mimsave('animated_scatterplot.gif', images, fps=10)"
   ]
  },
  {
   "cell_type": "markdown",
   "metadata": {},
   "source": [
    "![](animated_scatterplot.gif)"
   ]
  },
  {
   "cell_type": "code",
   "execution_count": null,
   "metadata": {},
   "outputs": [],
   "source": []
  }
 ],
 "metadata": {
  "kernelspec": {
   "display_name": "Python 3",
   "language": "python",
   "name": "python3"
  },
  "language_info": {
   "codemirror_mode": {
    "name": "ipython",
    "version": 3
   },
   "file_extension": ".py",
   "mimetype": "text/x-python",
   "name": "python",
   "nbconvert_exporter": "python",
   "pygments_lexer": "ipython3",
   "version": "3.9.12"
  },
  "varInspector": {
   "cols": {
    "lenName": 16,
    "lenType": 16,
    "lenVar": 40
   },
   "kernels_config": {
    "python": {
     "delete_cmd_postfix": "",
     "delete_cmd_prefix": "del ",
     "library": "var_list.py",
     "varRefreshCmd": "print(var_dic_list())"
    },
    "r": {
     "delete_cmd_postfix": ") ",
     "delete_cmd_prefix": "rm(",
     "library": "var_list.r",
     "varRefreshCmd": "cat(var_dic_list()) "
    }
   },
   "types_to_exclude": [
    "module",
    "function",
    "builtin_function_or_method",
    "instance",
    "_Feature"
   ],
   "window_display": false
  }
 },
 "nbformat": 4,
 "nbformat_minor": 2
}
